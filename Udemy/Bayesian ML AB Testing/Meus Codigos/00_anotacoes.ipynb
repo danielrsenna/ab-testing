{
 "cells": [
  {
   "cell_type": "markdown",
   "metadata": {},
   "source": [
    "Duas coias afetam nossa \"confiância\" em uma estimativa\n",
    "1) Quão espalhados estão os dados (alta variância)\n",
    "2) Quantas amostras temos"
   ]
  }
 ],
 "metadata": {
  "kernelspec": {
   "display_name": "base",
   "language": "python",
   "name": "python3"
  },
  "language_info": {
   "name": "python",
   "version": "3.12.7"
  }
 },
 "nbformat": 4,
 "nbformat_minor": 2
}
