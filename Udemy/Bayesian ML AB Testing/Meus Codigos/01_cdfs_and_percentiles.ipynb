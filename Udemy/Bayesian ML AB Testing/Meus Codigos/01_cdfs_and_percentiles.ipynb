{
 "cells": [
  {
   "cell_type": "code",
   "execution_count": 2,
   "metadata": {},
   "outputs": [],
   "source": [
    "import numpy as np\n",
    "import matplotlib.pyplot as plt\n",
    "from scipy.stats import norm\n",
    "np.random.seed(0)"
   ]
  },
  {
   "cell_type": "code",
   "execution_count": 3,
   "metadata": {},
   "outputs": [],
   "source": [
    "mu = 170 #média altura em cm\n",
    "sd = 7 #desvio padrão em cm"
   ]
  },
  {
   "cell_type": "markdown",
   "metadata": {},
   "source": [
    "Código abaixo gera amostras em uma distribuição Gaussiana (normal)\n",
    "- norm -> distribuição normal do scipy.stats\n",
    "- rvs -> método \"random variates\" gera amostras aleatórias conforme a distribuição definida (normal) e os parâmetros abaixo:\n",
    "    - loc -> (location) parâmetro define a média da distribuição normal como sendo mu\n",
    "    - scale -> parâmetro define o desvio padrão como sendo sd\n",
    "    - size -> número de amostras a serem geradas"
   ]
  },
  {
   "cell_type": "code",
   "execution_count": 4,
   "metadata": {},
   "outputs": [],
   "source": [
    "x = norm.rvs(loc=mu, scale=sd, size =100)"
   ]
  },
  {
   "cell_type": "markdown",
   "metadata": {},
   "source": [
    "Copilot: O conceito de \"maximum likelihood\" (máxima verossimilhança) é uma técnica estatística usada para estimar os parâmetros de um modelo probabilístico. A ideia central é encontrar os valores dos parâmetros que tornam os dados observados mais prováveis. A máxima verossimilhança é uma abordagem para estimar parâmetros de forma que o modelo probabilístico se ajuste melhor aos dados observados."
   ]
  },
  {
   "cell_type": "code",
   "execution_count": 5,
   "metadata": {},
   "outputs": [
    {
     "data": {
      "text/plain": [
       "170.41865610874137"
      ]
     },
     "execution_count": 5,
     "metadata": {},
     "output_type": "execute_result"
    }
   ],
   "source": [
    "#Média de Máxima Verossimilhança\n",
    "x.mean()"
   ]
  },
  {
   "cell_type": "code",
   "execution_count": 6,
   "metadata": {},
   "outputs": [
    {
     "data": {
      "text/plain": [
       "49.77550434153163"
      ]
     },
     "execution_count": 6,
     "metadata": {},
     "output_type": "execute_result"
    }
   ],
   "source": [
    "#Variância de Máxima Verossimilhança\n",
    "x.var()"
   ]
  },
  {
   "cell_type": "code",
   "execution_count": 8,
   "metadata": {},
   "outputs": [
    {
     "data": {
      "text/plain": [
       "7.055175713016057"
      ]
     },
     "execution_count": 8,
     "metadata": {},
     "output_type": "execute_result"
    }
   ],
   "source": [
    "#Desvio Padrão de Máxima Verossimilhança\n",
    "x.std()"
   ]
  },
  {
   "cell_type": "markdown",
   "metadata": {},
   "source": [
    "PPF: Probability Point Function (a inversa da CDF, Cumulative Distribution Function)\n",
    "- É a função que retorna o ponto exato onde a probabilidade de tudo à esquerda é igual a um dado valor \n",
    "- Serve para encontrar o ponto no eixo x que corresponde a um dado percentil\n"
   ]
  },
  {
   "cell_type": "code",
   "execution_count": 10,
   "metadata": {},
   "outputs": [
    {
     "data": {
      "text/plain": [
       "181.5139753886603"
      ]
     },
     "execution_count": 10,
     "metadata": {},
     "output_type": "execute_result"
    }
   ],
   "source": [
    "#Altura no percentil 95\n",
    "norm.ppf(0.95, loc=mu, scale=sd)"
   ]
  },
  {
   "cell_type": "markdown",
   "metadata": {},
   "source": [
    "CDF: Cumulative Distribution Function\n",
    "- gives the probability that the random variable X is less than or equal to x"
   ]
  },
  {
   "cell_type": "code",
   "execution_count": 12,
   "metadata": {},
   "outputs": [
    {
     "data": {
      "text/plain": [
       "7.656372550983476"
      ]
     },
     "execution_count": 12,
     "metadata": {},
     "output_type": "execute_result"
    }
   ],
   "source": [
    "#Percentil da altura 160\n",
    "norm.cdf(160,loc=mu,scale=sd)*100"
   ]
  },
  {
   "cell_type": "code",
   "execution_count": 15,
   "metadata": {},
   "outputs": [
    {
     "data": {
      "text/plain": [
       "7.656372550983481"
      ]
     },
     "execution_count": 15,
     "metadata": {},
     "output_type": "execute_result"
    }
   ],
   "source": [
    "#Você tem 180cm, qual a probabilidade de alguém ser mais alto que você?\n",
    "# 1 menos o percentil para 180cm\n",
    "(1-norm.cdf(180,loc=mu,scale=sd))*100 #também chamado de survival function"
   ]
  },
  {
   "cell_type": "code",
   "execution_count": 18,
   "metadata": {},
   "outputs": [
    {
     "data": {
      "text/plain": [
       "7.656372550983476"
      ]
     },
     "execution_count": 18,
     "metadata": {},
     "output_type": "execute_result"
    }
   ],
   "source": [
    "norm.sf(180, loc=mu,scale=sd)*100 #método survival function direto"
   ]
  }
 ],
 "metadata": {
  "kernelspec": {
   "display_name": "base",
   "language": "python",
   "name": "python3"
  },
  "language_info": {
   "codemirror_mode": {
    "name": "ipython",
    "version": 3
   },
   "file_extension": ".py",
   "mimetype": "text/x-python",
   "name": "python",
   "nbconvert_exporter": "python",
   "pygments_lexer": "ipython3",
   "version": "3.12.7"
  }
 },
 "nbformat": 4,
 "nbformat_minor": 2
}
