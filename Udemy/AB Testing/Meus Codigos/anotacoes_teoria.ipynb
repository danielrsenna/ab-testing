{
 "cells": [
  {
   "cell_type": "markdown",
   "metadata": {},
   "source": [
    "## Contexto (Entendendo Business Problem)"
   ]
  },
  {
   "cell_type": "markdown",
   "metadata": {},
   "source": [
    "### Objetivos"
   ]
  },
  {
   "cell_type": "markdown",
   "metadata": {},
   "source": [
    "Quais os objetivos do produto/negócio com o experimento?"
   ]
  },
  {
   "cell_type": "markdown",
   "metadata": {},
   "source": [
    "- Experimento visa melhorar a qualidade do produto e contribuir para o crescimento do negócio.\n",
    "- Business -> Product -> Experimentation\n",
    "- O objetivo de um experimento é melhorar uma feature em particular de um produto. Os produtos visam entregar valor ao cliente/usuário. O business oferece produtos para seus clientes/usuários para atingir uma visão (\"mission statement\")"
   ]
  },
  {
   "cell_type": "markdown",
   "metadata": {},
   "source": [
    "Comece entendendo o Produto (product Breakdon)\n",
    "\n",
    "1) Problema: Qual problema o produto resolve?\n",
    "2) Usuários: Quem são os usuários do produto?\n",
    "3) Onboarding: Como é o processo de onboarding do produto?\n",
    "4) Jornada: Como é a experiência do usuário do início ao fim da tarefa?\n",
    "5) Recompensa: Como o produto recompensa o usuário?\n",
    "6) Retenção: Como o produto retém usuários?\n",
    "7) Growth: Como o produto gera crescimento no número de usuários?"
   ]
  },
  {
   "cell_type": "markdown",
   "metadata": {},
   "source": [
    "### Stakeholders"
   ]
  },
  {
   "cell_type": "markdown",
   "metadata": {},
   "source": [
    "Quem é \"patrocinador\" do experimento e quem é o time envolvido?"
   ]
  },
  {
   "cell_type": "markdown",
   "metadata": {},
   "source": [
    "- Business Lead: define os objetivos macro do negócio e a estratégia do produto\n",
    "- Product Manager: coordena o desenvolvimento do produto\n",
    "- UI/UX Designer: design da interface/experiência do usuário para a melhoria na features\n",
    "- Data Scientist: conduz e analisa os experimentos (Teste A/B)\n",
    "- Software Engineer: implementa as mudanças nas features e desenvolve a infra por trás do teste/experimento"
   ]
  },
  {
   "cell_type": "markdown",
   "metadata": {},
   "source": [
    "### KPI"
   ]
  },
  {
   "cell_type": "markdown",
   "metadata": {},
   "source": [
    "Qual o indicador (KPI) a ser alterado com o experimento?"
   ]
  },
  {
   "cell_type": "markdown",
   "metadata": {},
   "source": [
    "#### Receita de uma Métrica:"
   ]
  },
  {
   "cell_type": "markdown",
   "metadata": {},
   "source": [
    "- Ação: Qual ação vamos medir? \n",
    "    - click, view, post.. \n",
    "- Unidade: A que nível vamos medir a ação? (Granularidade)\n",
    "    - user, session, month..\n",
    "- Estatística: Como vamos quantificar?\n",
    "    - total, average, count.."
   ]
  },
  {
   "cell_type": "markdown",
   "metadata": {},
   "source": [
    "#### Framework AAARRG:"
   ]
  },
  {
   "cell_type": "markdown",
   "metadata": {},
   "source": [
    "- Acquisition: como os usuários nos encontram?\n",
    "- Activation: quão rápido convertem?\n",
    "- Retention: por quanto tempo ficam ativos?\n",
    "- Referral: como os usuários contam para outros sobre o produto?\n",
    "- Revenue: como aumentar revenue?"
   ]
  },
  {
   "cell_type": "markdown",
   "metadata": {},
   "source": [
    "#### Framework HEART (google):"
   ]
  },
  {
   "cell_type": "markdown",
   "metadata": {},
   "source": [
    "- Happiness: Quão satisfeitos estão os usuários?\n",
    "- Engagement: Quão engajados estão com o produto?\n",
    "- Acquisition: Quantos novos usuários estamos recebendo por mês?\n",
    "- Referral: Active users diários e mensais\n",
    "- Task Success: Quanto tempo leva para o usuário completar a tarefa?"
   ]
  },
  {
   "cell_type": "markdown",
   "metadata": {},
   "source": [
    "#### Hierarquia da Métrica"
   ]
  },
  {
   "cell_type": "markdown",
   "metadata": {},
   "source": [
    "- North Star metric: métrica que demonstra que a empresa está indo em direção à sua missão\n",
    "- Driver metric: Em geral usada no teste AB. KPI medida no nível produto.\n",
    "- Guardrail metric: métricas de proteção contra um experimento\n",
    "- Secondary metrics: acompanham microinterações do usuário, explica mais a driver metric \n",
    "    - Google search: \n",
    "        - driver metric links úteis (CTA) \n",
    "        - secondary: time spent browsing \n",
    "- Segmentation: explicam variabilidade entre segmentos de usuários\n",
    "    - Simpson's Paradox"
   ]
  },
  {
   "cell_type": "markdown",
   "metadata": {},
   "source": [
    "##### North Star Metric (NSM)"
   ]
  },
  {
   "cell_type": "markdown",
   "metadata": {},
   "source": [
    "Propriedades da NSM:\n",
    "- Provides value to users\n",
    "- Contributes to profit\n",
    "- Gauges long term growth"
   ]
  },
  {
   "cell_type": "markdown",
   "metadata": {},
   "source": [
    "Exemplos possíveis:\n",
    "- Google: search queries per year\n",
    "- Meta: total minutes consumed across Meta's ecosystem per year\n",
    "- Netflix: #subscribers per year"
   ]
  },
  {
   "cell_type": "markdown",
   "metadata": {},
   "source": [
    "##### Driver Metric"
   ]
  },
  {
   "cell_type": "markdown",
   "metadata": {},
   "source": [
    "Exemplos possíveis:\n",
    "- Google: \n",
    "    - NSM: search queries per year\n",
    "    - DM: Average daily search queries per user\n",
    "- Meta: \n",
    "    - NSM: total minutes consumed across Meta's ecosystem per year\n",
    "    - DM: Average daily minutes consumed per user\n",
    "- Netflix: \n",
    "    - NSM: #subscribers per year\n",
    "    - DM: Average daily minutes consumed per user"
   ]
  },
  {
   "cell_type": "markdown",
   "metadata": {},
   "source": [
    "##### Guardrail Metrics (trade-off)"
   ]
  },
  {
   "cell_type": "markdown",
   "metadata": {},
   "source": [
    "Métricas trade-off em uma decisão de negócios. Ou acompanham viés em um experimento"
   ]
  },
  {
   "cell_type": "markdown",
   "metadata": {},
   "source": [
    "- Business Metrics: KPIs relacionadas ao objetivo do experimento\n",
    "    - aumentou revenue (via ads), mas caiu retenção\n",
    "- Validity Metric: track potenciais vieses no experimento\n",
    "    - novelty effect, change-aversion effect"
   ]
  },
  {
   "cell_type": "markdown",
   "metadata": {},
   "source": [
    "- Netflix: \n",
    "    - Objetivo do experimento: Testar um novo modelo de recomendação para aumentar engajamento\n",
    "    - NSM: #subscribers per year\n",
    "    - DM: Average daily minutes consumed per user\n",
    "    - Guardrail metrics:\n",
    "        - business: revenue per day, signups per day, cancellation per day\n",
    "        - validity: sample ratio mismatch (SRM), AA test, novelty effect check"
   ]
  },
  {
   "cell_type": "markdown",
   "metadata": {},
   "source": [
    "##### Secondary Metrics"
   ]
  },
  {
   "cell_type": "markdown",
   "metadata": {},
   "source": [
    "Measuring micro-interactions of a feature. Directly or indirectly correlated to the driver metric."
   ]
  },
  {
   "cell_type": "markdown",
   "metadata": {},
   "source": [
    "What is happenning to the product overall?"
   ]
  },
  {
   "cell_type": "markdown",
   "metadata": {},
   "source": [
    "Give additional insights about the behavioural changes happening because of the experiment"
   ]
  },
  {
   "cell_type": "markdown",
   "metadata": {},
   "source": [
    "Netflix\n",
    "- Average search count per user\n",
    "- Average browsing time per user\n",
    "- Average views per user"
   ]
  },
  {
   "cell_type": "markdown",
   "metadata": {},
   "source": [
    "##### Segmenation Metrics"
   ]
  },
  {
   "cell_type": "markdown",
   "metadata": {},
   "source": [
    "Separando KPIs do experimento por grupos (localização, idade, browser, device, income, gender, membership years...)"
   ]
  },
  {
   "cell_type": "markdown",
   "metadata": {},
   "source": [
    "- Device: android, iphone\n",
    "- Browser: firefox, chrome, edge\n",
    "- Localização: por país, por continente"
   ]
  },
  {
   "cell_type": "markdown",
   "metadata": {},
   "source": [
    "### Critério de Aceite"
   ]
  },
  {
   "cell_type": "markdown",
   "metadata": {},
   "source": [
    "Como determinaremos, quantitativamente, que o experimento foi bem sucedido?"
   ]
  },
  {
   "cell_type": "markdown",
   "metadata": {},
   "source": [
    "Definir desde o início \"launch criteria\". Intervalo de confiança, significância estatística, magnitude de mudança do \"ponteiro\""
   ]
  },
  {
   "cell_type": "markdown",
   "metadata": {},
   "source": [
    "### Dados"
   ]
  },
  {
   "cell_type": "markdown",
   "metadata": {},
   "source": [
    "Quais são os dados necessários para executar o experimento?"
   ]
  },
  {
   "cell_type": "markdown",
   "metadata": {},
   "source": [
    "- Data Pipeline: qual a infra para aplicar o teste, coletar os dados, realizar as análises..?\n",
    "- Baseline: qual a performance atual da feature? como está o KPI atualmente?\n",
    "- Inference: como os dados serão analisados para tomarmos a decisão quanto ao experimento?"
   ]
  },
  {
   "cell_type": "markdown",
   "metadata": {},
   "source": []
  },
  {
   "cell_type": "markdown",
   "metadata": {},
   "source": [
    "### Exercícios"
   ]
  },
  {
   "cell_type": "markdown",
   "metadata": {},
   "source": [
    "#### Amazon"
   ]
  },
  {
   "cell_type": "markdown",
   "metadata": {},
   "source": [
    "Time de search da Amazon está rodando experimentos para novo algoritmo de recomendações nos resultados de busca por produtos. Quais são: North Star, Driver, Guardrail, sencondary, segmentation metrics?"
   ]
  },
  {
   "cell_type": "markdown",
   "metadata": {},
   "source": [
    "- North star: unidades de produtos vendidas por ano\n",
    "    - total sales per year\n",
    "- Driver: algo relacionado com se o produto aberto foi comprado\n",
    "    - average daily sales per user\n",
    "- Guardrail: reviews do produto, devolução, se houve retorno para comprar outros produtos\n",
    "    - refunds per day, orders per day, signups per day\n",
    "- Secondary: clicks nos anúncios, tempo gasto na página de resultados, tempo gasto na pagina do produto aberto, quantidade de produtos abertos até a compra (precisou abrir x produtos até escolher um)\n",
    "    - average search counts per user, average cart size per user, average browsing time per user\n",
    "- Segmentation: por dia da semana, por idade, por país"
   ]
  },
  {
   "cell_type": "markdown",
   "metadata": {},
   "source": []
  },
  {
   "cell_type": "markdown",
   "metadata": {},
   "source": [
    "### Explorar e Visualizar os Dados (EDA)"
   ]
  },
  {
   "cell_type": "markdown",
   "metadata": {},
   "source": [
    "Importante para entender o business problem."
   ]
  },
  {
   "cell_type": "markdown",
   "metadata": {},
   "source": [
    "## Definindo a Hipótese do Experimento"
   ]
  },
  {
   "cell_type": "markdown",
   "metadata": {},
   "source": []
  }
 ],
 "metadata": {
  "language_info": {
   "name": "python"
  }
 },
 "nbformat": 4,
 "nbformat_minor": 2
}
